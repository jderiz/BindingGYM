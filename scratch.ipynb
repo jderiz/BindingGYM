{
 "cells": [
  {
   "cell_type": "markdown",
   "metadata": {},
   "source": [
    "# DataLoading Scheme\n",
    "- we need to figure out how the benchmark data is loaded."
   ]
  },
  {
   "cell_type": "code",
   "execution_count": null,
   "metadata": {},
   "outputs": [],
   "source": [
    "from utils.data_utils import DMS_file_for_LLM\n",
    "import pandas as pd\n",
    "\n",
    "df = pd.read_csv('input/Binding_substitutions_DMS/GB1_IgG-Fc_fitness_1FCC_2016.csv')\n",
    "df = DMS_file_for_LLM(df, focus=True)\n",
    "\n",
    "df.wildtype_sequence[0]"
   ]
  },
  {
   "cell_type": "code",
   "execution_count": null,
   "metadata": {},
   "outputs": [],
   "source": [
    "df.mutated_sequence.apply(len).unique()"
   ]
  },
  {
   "cell_type": "code",
   "execution_count": 3,
   "metadata": {},
   "outputs": [],
   "source": [
    "df[['mutant','mutated_sequence', 'DMS_score']].to_csv('/home/iwe7/haipr/haipr/models/kermut/data/cv_folds_multiples_substitutions/GB1.csv', index=False)"
   ]
  },
  {
   "cell_type": "code",
   "execution_count": null,
   "metadata": {},
   "outputs": [],
   "source": [
    "len(df.wildtype_sequence[0])"
   ]
  },
  {
   "cell_type": "code",
   "execution_count": null,
   "metadata": {},
   "outputs": [],
   "source": []
  }
 ],
 "metadata": {
  "kernelspec": {
   "display_name": ".venv",
   "language": "python",
   "name": "python3"
  },
  "language_info": {
   "codemirror_mode": {
    "name": "ipython",
    "version": 3
   },
   "file_extension": ".py",
   "mimetype": "text/x-python",
   "name": "python",
   "nbconvert_exporter": "python",
   "pygments_lexer": "ipython3",
   "version": "3.12.3"
  }
 },
 "nbformat": 4,
 "nbformat_minor": 2
}
